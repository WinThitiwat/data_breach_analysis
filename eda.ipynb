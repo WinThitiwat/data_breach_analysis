{
 "cells": [
  {
   "cell_type": "code",
   "execution_count": 248,
   "metadata": {},
   "outputs": [],
   "source": [
    "import pandas as pd\n",
    "import os\n",
    "import matplotlib.pyplot as plt\n",
    "\n",
    "pd.set_option('max_colwidth', 40)\n"
   ]
  },
  {
   "cell_type": "code",
   "execution_count": 52,
   "metadata": {},
   "outputs": [
    {
     "output_type": "stream",
     "name": "stdout",
     "text": [
      "Read data successfully\ndata dimension - row: 339, column: 10\n"
     ]
    }
   ],
   "source": [
    "project_root = os.path.abspath('')\n",
    "data_path = os.path.join(project_root, 'data')\n",
    "clean_data_path = os.path.join(data_path, 'clean_data_breaches.csv')\n",
    "\n",
    "df = pd.read_csv(clean_data_path, header=0)\n",
    "\n",
    "print('Read data successfully')\n",
    "print(f'data dimension - row: {df.shape[0]}, column: {df.shape[1]}')"
   ]
  },
  {
   "cell_type": "code",
   "execution_count": 53,
   "metadata": {},
   "outputs": [
    {
     "output_type": "execute_result",
     "data": {
      "text/plain": [
       "<pandas.io.formats.style.Styler at 0x7fd579e865f8>"
      ],
      "text/html": "<style  type=\"text/css\" >\n</style><table id=\"T_e5ed82be_5832_11eb_88eb_24a074f01b76\" ><thead>    <tr>        <th class=\"blank level0\" ></th>        <th class=\"col_heading level0 col0\" >entity</th>        <th class=\"col_heading level0 col1\" >records_lost</th>        <th class=\"col_heading level0 col2\" >int_records_lost</th>        <th class=\"col_heading level0 col3\" >year</th>        <th class=\"col_heading level0 col4\" >month</th>        <th class=\"col_heading level0 col5\" >sector</th>        <th class=\"col_heading level0 col6\" >method</th>        <th class=\"col_heading level0 col7\" >data_sensitivity</th>        <th class=\"col_heading level0 col8\" >source_name</th>        <th class=\"col_heading level0 col9\" >interesting_story</th>    </tr></thead><tbody>\n                <tr>\n                        <th id=\"T_e5ed82be_5832_11eb_88eb_24a074f01b76level0_row0\" class=\"row_heading level0 row0\" >0</th>\n                        <td id=\"T_e5ed82be_5832_11eb_88eb_24a074f01b76row0_col0\" class=\"data row0 col0\" >US Customs and Border Protection</td>\n                        <td id=\"T_e5ed82be_5832_11eb_88eb_24a074f01b76row0_col1\" class=\"data row0 col1\" >100,000</td>\n                        <td id=\"T_e5ed82be_5832_11eb_88eb_24a074f01b76row0_col2\" class=\"data row0 col2\" >100000</td>\n                        <td id=\"T_e5ed82be_5832_11eb_88eb_24a074f01b76row0_col3\" class=\"data row0 col3\" >2019</td>\n                        <td id=\"T_e5ed82be_5832_11eb_88eb_24a074f01b76row0_col4\" class=\"data row0 col4\" >Jun</td>\n                        <td id=\"T_e5ed82be_5832_11eb_88eb_24a074f01b76row0_col5\" class=\"data row0 col5\" >government</td>\n                        <td id=\"T_e5ed82be_5832_11eb_88eb_24a074f01b76row0_col6\" class=\"data row0 col6\" >hacked</td>\n                        <td id=\"T_e5ed82be_5832_11eb_88eb_24a074f01b76row0_col7\" class=\"data row0 col7\" >2</td>\n                        <td id=\"T_e5ed82be_5832_11eb_88eb_24a074f01b76row0_col8\" class=\"data row0 col8\" >Washington Post</td>\n                        <td id=\"T_e5ed82be_5832_11eb_88eb_24a074f01b76row0_col9\" class=\"data row0 col9\" >y</td>\n            </tr>\n            <tr>\n                        <th id=\"T_e5ed82be_5832_11eb_88eb_24a074f01b76level0_row1\" class=\"row_heading level0 row1\" >1</th>\n                        <td id=\"T_e5ed82be_5832_11eb_88eb_24a074f01b76row1_col0\" class=\"data row1 col0\" >Click2Gov</td>\n                        <td id=\"T_e5ed82be_5832_11eb_88eb_24a074f01b76row1_col1\" class=\"data row1 col1\" >300,000</td>\n                        <td id=\"T_e5ed82be_5832_11eb_88eb_24a074f01b76row1_col2\" class=\"data row1 col2\" >300000</td>\n                        <td id=\"T_e5ed82be_5832_11eb_88eb_24a074f01b76row1_col3\" class=\"data row1 col3\" >2018</td>\n                        <td id=\"T_e5ed82be_5832_11eb_88eb_24a074f01b76row1_col4\" class=\"data row1 col4\" >Dec</td>\n                        <td id=\"T_e5ed82be_5832_11eb_88eb_24a074f01b76row1_col5\" class=\"data row1 col5\" >financial</td>\n                        <td id=\"T_e5ed82be_5832_11eb_88eb_24a074f01b76row1_col6\" class=\"data row1 col6\" >hacked</td>\n                        <td id=\"T_e5ed82be_5832_11eb_88eb_24a074f01b76row1_col7\" class=\"data row1 col7\" >3</td>\n                        <td id=\"T_e5ed82be_5832_11eb_88eb_24a074f01b76row1_col8\" class=\"data row1 col8\" >Fortune</td>\n                        <td id=\"T_e5ed82be_5832_11eb_88eb_24a074f01b76row1_col9\" class=\"data row1 col9\" >n</td>\n            </tr>\n            <tr>\n                        <th id=\"T_e5ed82be_5832_11eb_88eb_24a074f01b76level0_row2\" class=\"row_heading level0 row2\" >2</th>\n                        <td id=\"T_e5ed82be_5832_11eb_88eb_24a074f01b76row2_col0\" class=\"data row2 col0\" >SingHealth</td>\n                        <td id=\"T_e5ed82be_5832_11eb_88eb_24a074f01b76row2_col1\" class=\"data row2 col1\" >1,500,000</td>\n                        <td id=\"T_e5ed82be_5832_11eb_88eb_24a074f01b76row2_col2\" class=\"data row2 col2\" >1500000</td>\n                        <td id=\"T_e5ed82be_5832_11eb_88eb_24a074f01b76row2_col3\" class=\"data row2 col3\" >2018</td>\n                        <td id=\"T_e5ed82be_5832_11eb_88eb_24a074f01b76row2_col4\" class=\"data row2 col4\" >Jul</td>\n                        <td id=\"T_e5ed82be_5832_11eb_88eb_24a074f01b76row2_col5\" class=\"data row2 col5\" >healthcare</td>\n                        <td id=\"T_e5ed82be_5832_11eb_88eb_24a074f01b76row2_col6\" class=\"data row2 col6\" >hacked</td>\n                        <td id=\"T_e5ed82be_5832_11eb_88eb_24a074f01b76row2_col7\" class=\"data row2 col7\" >4</td>\n                        <td id=\"T_e5ed82be_5832_11eb_88eb_24a074f01b76row2_col8\" class=\"data row2 col8\" >Straits Times</td>\n                        <td id=\"T_e5ed82be_5832_11eb_88eb_24a074f01b76row2_col9\" class=\"data row2 col9\" >n</td>\n            </tr>\n            <tr>\n                        <th id=\"T_e5ed82be_5832_11eb_88eb_24a074f01b76level0_row3\" class=\"row_heading level0 row3\" >3</th>\n                        <td id=\"T_e5ed82be_5832_11eb_88eb_24a074f01b76row3_col0\" class=\"data row3 col0\" >Quest Diagnostics</td>\n                        <td id=\"T_e5ed82be_5832_11eb_88eb_24a074f01b76row3_col1\" class=\"data row3 col1\" >11,900,000</td>\n                        <td id=\"T_e5ed82be_5832_11eb_88eb_24a074f01b76row3_col2\" class=\"data row3 col2\" >11900000</td>\n                        <td id=\"T_e5ed82be_5832_11eb_88eb_24a074f01b76row3_col3\" class=\"data row3 col3\" >2019</td>\n                        <td id=\"T_e5ed82be_5832_11eb_88eb_24a074f01b76row3_col4\" class=\"data row3 col4\" >Jun</td>\n                        <td id=\"T_e5ed82be_5832_11eb_88eb_24a074f01b76row3_col5\" class=\"data row3 col5\" >healthcare</td>\n                        <td id=\"T_e5ed82be_5832_11eb_88eb_24a074f01b76row3_col6\" class=\"data row3 col6\" >poor security</td>\n                        <td id=\"T_e5ed82be_5832_11eb_88eb_24a074f01b76row3_col7\" class=\"data row3 col7\" >4</td>\n                        <td id=\"T_e5ed82be_5832_11eb_88eb_24a074f01b76row3_col8\" class=\"data row3 col8\" >NBC News</td>\n                        <td id=\"T_e5ed82be_5832_11eb_88eb_24a074f01b76row3_col9\" class=\"data row3 col9\" >n</td>\n            </tr>\n            <tr>\n                        <th id=\"T_e5ed82be_5832_11eb_88eb_24a074f01b76level0_row4\" class=\"row_heading level0 row4\" >4</th>\n                        <td id=\"T_e5ed82be_5832_11eb_88eb_24a074f01b76row4_col0\" class=\"data row4 col0\" >Australian National University</td>\n                        <td id=\"T_e5ed82be_5832_11eb_88eb_24a074f01b76row4_col1\" class=\"data row4 col1\" >200,000</td>\n                        <td id=\"T_e5ed82be_5832_11eb_88eb_24a074f01b76row4_col2\" class=\"data row4 col2\" >200000</td>\n                        <td id=\"T_e5ed82be_5832_11eb_88eb_24a074f01b76row4_col3\" class=\"data row4 col3\" >2019</td>\n                        <td id=\"T_e5ed82be_5832_11eb_88eb_24a074f01b76row4_col4\" class=\"data row4 col4\" >Jun</td>\n                        <td id=\"T_e5ed82be_5832_11eb_88eb_24a074f01b76row4_col5\" class=\"data row4 col5\" >academic</td>\n                        <td id=\"T_e5ed82be_5832_11eb_88eb_24a074f01b76row4_col6\" class=\"data row4 col6\" >hacked</td>\n                        <td id=\"T_e5ed82be_5832_11eb_88eb_24a074f01b76row4_col7\" class=\"data row4 col7\" >4</td>\n                        <td id=\"T_e5ed82be_5832_11eb_88eb_24a074f01b76row4_col8\" class=\"data row4 col8\" >Guardian</td>\n                        <td id=\"T_e5ed82be_5832_11eb_88eb_24a074f01b76row4_col9\" class=\"data row4 col9\" >n</td>\n            </tr>\n    </tbody></table>"
     },
     "metadata": {},
     "execution_count": 53
    }
   ],
   "source": [
    "# preview first 5 records\n",
    "df.head(5).style"
   ]
  },
  {
   "cell_type": "code",
   "execution_count": 404,
   "metadata": {},
   "outputs": [
    {
     "output_type": "stream",
     "name": "stdout",
     "text": [
      "Range of year is 20\n"
     ]
    }
   ],
   "source": [
    "## data range\n",
    "data_range = df['year'].max() - df['year'].min()\n",
    "print(f'Range of data is {data_range}')"
   ]
  },
  {
   "source": [
    "## 1. Number of records from data breach over the past 20 years"
   ],
   "cell_type": "markdown",
   "metadata": {}
  },
  {
   "cell_type": "code",
   "execution_count": 405,
   "metadata": {},
   "outputs": [
    {
     "output_type": "execute_result",
     "data": {
      "text/plain": [
       "13548907610"
      ]
     },
     "metadata": {},
     "execution_count": 405
    }
   ],
   "source": [
    "df['int_records_lost'].sum()"
   ]
  },
  {
   "source": [
    "### More than 13 billion of records lost from data breach over the past 20 years"
   ],
   "cell_type": "markdown",
   "metadata": {}
  },
  {
   "source": [
    "## 2. Top 5 sectors where data breach happens the most"
   ],
   "cell_type": "markdown",
   "metadata": {}
  },
  {
   "cell_type": "code",
   "execution_count": 289,
   "metadata": {},
   "outputs": [
    {
     "output_type": "execute_result",
     "data": {
      "text/plain": [
       "<AxesSubplot:ylabel='sector'>"
      ]
     },
     "metadata": {},
     "execution_count": 289
    },
    {
     "output_type": "display_data",
     "data": {
      "text/plain": "<Figure size 432x288 with 1 Axes>",
      "image/svg+xml": "<?xml version=\"1.0\" encoding=\"utf-8\" standalone=\"no\"?>\n<!DOCTYPE svg PUBLIC \"-//W3C//DTD SVG 1.1//EN\"\n  \"http://www.w3.org/Graphics/SVG/1.1/DTD/svg11.dtd\">\n<!-- Created with matplotlib (https://matplotlib.org/) -->\n<svg height=\"231.84pt\" version=\"1.1\" viewBox=\"0 0 279.98469 231.84\" width=\"279.98469pt\" xmlns=\"http://www.w3.org/2000/svg\" xmlns:xlink=\"http://www.w3.org/1999/xlink\">\n <metadata>\n  <rdf:RDF xmlns:cc=\"http://creativecommons.org/ns#\" xmlns:dc=\"http://purl.org/dc/elements/1.1/\" xmlns:rdf=\"http://www.w3.org/1999/02/22-rdf-syntax-ns#\">\n   <cc:Work>\n    <dc:type rdf:resource=\"http://purl.org/dc/dcmitype/StillImage\"/>\n    <dc:date>2021-01-16T14:05:59.212153</dc:date>\n    <dc:format>image/svg+xml</dc:format>\n    <dc:creator>\n     <cc:Agent>\n      <dc:title>Matplotlib v3.3.3, https://matplotlib.org/</dc:title>\n     </cc:Agent>\n    </dc:creator>\n   </cc:Work>\n  </rdf:RDF>\n </metadata>\n <defs>\n  <style type=\"text/css\">*{stroke-linecap:butt;stroke-linejoin:round;}</style>\n </defs>\n <g id=\"figure_1\">\n  <g id=\"patch_1\">\n   <path d=\"M 0 231.84 \nL 279.98469 231.84 \nL 279.98469 0 \nL 0 0 \nz\n\" style=\"fill:none;\"/>\n  </g>\n  <g id=\"axes_1\">\n   <g id=\"patch_2\">\n    <path d=\"M 78.594857 45.98032 \nC 63.29983 56.4923 51.76367 71.628823 45.683155 89.163557 \nC 39.602639 106.698291 39.291251 125.727225 44.79479 143.45152 \nC 50.29833 161.175814 61.33306 176.681685 76.275955 187.688477 \nC 91.21885 198.695268 109.299522 204.63552 127.858605 204.63552 \nL 127.858605 117.65952 \nL 78.594857 45.98032 \nz\n\" style=\"fill:#092436;opacity:0.5;stroke:#092436;stroke-linejoin:miter;\"/>\n   </g>\n   <g id=\"patch_3\">\n    <path d=\"M 171.346603 42.336093 \nC 157.121596 34.123283 140.856901 30.105708 124.443942 30.750575 \nC 108.030984 31.395442 92.131642 36.676745 78.594857 45.98032 \nL 127.858605 117.65952 \nL 171.346603 42.336093 \nz\n\" style=\"fill:#4c2604;opacity:0.5;stroke:#4c2604;stroke-linejoin:miter;\"/>\n   </g>\n   <g id=\"patch_4\">\n    <path d=\"M 214.8048 115.382748 \nC 214.415272 100.507288 210.214662 85.977736 202.606335 73.189289 \nC 194.998007 60.400842 184.233545 49.776372 171.346603 42.336093 \nL 127.858605 117.65952 \nL 214.8048 115.382748 \nz\n\" style=\"fill:#0d300d;opacity:0.5;stroke:#0d300d;stroke-linejoin:miter;\"/>\n   </g>\n   <g id=\"patch_5\">\n    <path d=\"M 180.806241 186.662218 \nC 191.695055 178.306938 200.453079 167.491677 206.361865 155.103649 \nC 212.27065 142.715621 215.164081 129.103094 214.8048 115.382748 \nL 127.858605 117.65952 \nL 180.806241 186.662218 \nz\n\" style=\"fill:#400c0c;opacity:0.5;stroke:#400c0c;stroke-linejoin:miter;\"/>\n   </g>\n   <g id=\"patch_6\">\n    <path d=\"M 127.858609 204.63552 \nC 137.367336 204.63552 146.812027 203.076194 155.816127 200.019714 \nC 164.820227 196.963233 173.262461 192.450765 180.806241 186.662218 \nL 127.858605 117.65952 \nL 127.858609 204.63552 \nz\n\" style=\"fill:#2c1f39;opacity:0.5;stroke:#2c1f39;stroke-linejoin:miter;\"/>\n   </g>\n   <g id=\"patch_7\">\n    <path d=\"M 80.334377 44.2408 \nC 65.03935 54.75278 53.50319 69.889303 47.422675 87.424037 \nC 41.342159 104.958771 41.030771 123.987705 46.53431 141.712 \nC 52.03785 159.436294 63.07258 174.942165 78.015475 185.948957 \nC 92.95837 196.955748 111.039042 202.896 129.598125 202.896 \nL 129.598125 115.92 \nL 80.334377 44.2408 \nz\n\" style=\"fill:#1f77b4;\"/>\n   </g>\n   <g id=\"patch_8\">\n    <path d=\"M 173.086123 40.596573 \nC 158.861116 32.383763 142.596421 28.366188 126.183462 29.011055 \nC 109.770504 29.655922 93.871162 34.937225 80.334377 44.2408 \nL 129.598125 115.92 \nL 173.086123 40.596573 \nz\n\" style=\"fill:#ff7f0e;\"/>\n   </g>\n   <g id=\"patch_9\">\n    <path d=\"M 216.54432 113.643228 \nC 216.154792 98.767768 211.954182 84.238216 204.345855 71.449769 \nC 196.737527 58.661322 185.973065 48.036852 173.086123 40.596573 \nL 129.598125 115.92 \nL 216.54432 113.643228 \nz\n\" style=\"fill:#2ca02c;\"/>\n   </g>\n   <g id=\"patch_10\">\n    <path d=\"M 182.545761 184.922698 \nC 193.434575 176.567418 202.192599 165.752157 208.101385 153.364129 \nC 214.01017 140.976101 216.903601 127.363574 216.54432 113.643228 \nL 129.598125 115.92 \nL 182.545761 184.922698 \nz\n\" style=\"fill:#d62728;\"/>\n   </g>\n   <g id=\"patch_11\">\n    <path d=\"M 129.598129 202.896 \nC 139.106856 202.896 148.551547 201.336674 157.555647 198.280194 \nC 166.559747 195.223713 175.001981 190.711245 182.545761 184.922698 \nL 129.598125 115.92 \nL 129.598129 202.896 \nz\n\" style=\"fill:#9467bd;\"/>\n   </g>\n   <g id=\"matplotlib.axis_1\"/>\n   <g id=\"matplotlib.axis_2\">\n    <g id=\"text_1\">\n     <!-- sector -->\n     <g transform=\"translate(14.798438 131.425469)rotate(-90)scale(0.1 -0.1)\">\n      <defs>\n       <path d=\"M 44.28125 53.078125 \nL 44.28125 44.578125 \nQ 40.484375 46.53125 36.375 47.5 \nQ 32.28125 48.484375 27.875 48.484375 \nQ 21.1875 48.484375 17.84375 46.4375 \nQ 14.5 44.390625 14.5 40.28125 \nQ 14.5 37.15625 16.890625 35.375 \nQ 19.28125 33.59375 26.515625 31.984375 \nL 29.59375 31.296875 \nQ 39.15625 29.25 43.1875 25.515625 \nQ 47.21875 21.78125 47.21875 15.09375 \nQ 47.21875 7.46875 41.1875 3.015625 \nQ 35.15625 -1.421875 24.609375 -1.421875 \nQ 20.21875 -1.421875 15.453125 -0.5625 \nQ 10.6875 0.296875 5.421875 2 \nL 5.421875 11.28125 \nQ 10.40625 8.6875 15.234375 7.390625 \nQ 20.0625 6.109375 24.8125 6.109375 \nQ 31.15625 6.109375 34.5625 8.28125 \nQ 37.984375 10.453125 37.984375 14.40625 \nQ 37.984375 18.0625 35.515625 20.015625 \nQ 33.0625 21.96875 24.703125 23.78125 \nL 21.578125 24.515625 \nQ 13.234375 26.265625 9.515625 29.90625 \nQ 5.8125 33.546875 5.8125 39.890625 \nQ 5.8125 47.609375 11.28125 51.796875 \nQ 16.75 56 26.8125 56 \nQ 31.78125 56 36.171875 55.265625 \nQ 40.578125 54.546875 44.28125 53.078125 \nz\n\" id=\"DejaVuSans-115\"/>\n       <path d=\"M 56.203125 29.59375 \nL 56.203125 25.203125 \nL 14.890625 25.203125 \nQ 15.484375 15.921875 20.484375 11.0625 \nQ 25.484375 6.203125 34.421875 6.203125 \nQ 39.59375 6.203125 44.453125 7.46875 \nQ 49.3125 8.734375 54.109375 11.28125 \nL 54.109375 2.78125 \nQ 49.265625 0.734375 44.1875 -0.34375 \nQ 39.109375 -1.421875 33.890625 -1.421875 \nQ 20.796875 -1.421875 13.15625 6.1875 \nQ 5.515625 13.8125 5.515625 26.8125 \nQ 5.515625 40.234375 12.765625 48.109375 \nQ 20.015625 56 32.328125 56 \nQ 43.359375 56 49.78125 48.890625 \nQ 56.203125 41.796875 56.203125 29.59375 \nz\nM 47.21875 32.234375 \nQ 47.125 39.59375 43.09375 43.984375 \nQ 39.0625 48.390625 32.421875 48.390625 \nQ 24.90625 48.390625 20.390625 44.140625 \nQ 15.875 39.890625 15.1875 32.171875 \nz\n\" id=\"DejaVuSans-101\"/>\n       <path d=\"M 48.78125 52.59375 \nL 48.78125 44.1875 \nQ 44.96875 46.296875 41.140625 47.34375 \nQ 37.3125 48.390625 33.40625 48.390625 \nQ 24.65625 48.390625 19.8125 42.84375 \nQ 14.984375 37.3125 14.984375 27.296875 \nQ 14.984375 17.28125 19.8125 11.734375 \nQ 24.65625 6.203125 33.40625 6.203125 \nQ 37.3125 6.203125 41.140625 7.25 \nQ 44.96875 8.296875 48.78125 10.40625 \nL 48.78125 2.09375 \nQ 45.015625 0.34375 40.984375 -0.53125 \nQ 36.96875 -1.421875 32.421875 -1.421875 \nQ 20.0625 -1.421875 12.78125 6.34375 \nQ 5.515625 14.109375 5.515625 27.296875 \nQ 5.515625 40.671875 12.859375 48.328125 \nQ 20.21875 56 33.015625 56 \nQ 37.15625 56 41.109375 55.140625 \nQ 45.0625 54.296875 48.78125 52.59375 \nz\n\" id=\"DejaVuSans-99\"/>\n       <path d=\"M 18.3125 70.21875 \nL 18.3125 54.6875 \nL 36.8125 54.6875 \nL 36.8125 47.703125 \nL 18.3125 47.703125 \nL 18.3125 18.015625 \nQ 18.3125 11.328125 20.140625 9.421875 \nQ 21.96875 7.515625 27.59375 7.515625 \nL 36.8125 7.515625 \nL 36.8125 0 \nL 27.59375 0 \nQ 17.1875 0 13.234375 3.875 \nQ 9.28125 7.765625 9.28125 18.015625 \nL 9.28125 47.703125 \nL 2.6875 47.703125 \nL 2.6875 54.6875 \nL 9.28125 54.6875 \nL 9.28125 70.21875 \nz\n\" id=\"DejaVuSans-116\"/>\n       <path d=\"M 30.609375 48.390625 \nQ 23.390625 48.390625 19.1875 42.75 \nQ 14.984375 37.109375 14.984375 27.296875 \nQ 14.984375 17.484375 19.15625 11.84375 \nQ 23.34375 6.203125 30.609375 6.203125 \nQ 37.796875 6.203125 41.984375 11.859375 \nQ 46.1875 17.53125 46.1875 27.296875 \nQ 46.1875 37.015625 41.984375 42.703125 \nQ 37.796875 48.390625 30.609375 48.390625 \nz\nM 30.609375 56 \nQ 42.328125 56 49.015625 48.375 \nQ 55.71875 40.765625 55.71875 27.296875 \nQ 55.71875 13.875 49.015625 6.21875 \nQ 42.328125 -1.421875 30.609375 -1.421875 \nQ 18.84375 -1.421875 12.171875 6.21875 \nQ 5.515625 13.875 5.515625 27.296875 \nQ 5.515625 40.765625 12.171875 48.375 \nQ 18.84375 56 30.609375 56 \nz\n\" id=\"DejaVuSans-111\"/>\n       <path d=\"M 41.109375 46.296875 \nQ 39.59375 47.171875 37.8125 47.578125 \nQ 36.03125 48 33.890625 48 \nQ 26.265625 48 22.1875 43.046875 \nQ 18.109375 38.09375 18.109375 28.8125 \nL 18.109375 0 \nL 9.078125 0 \nL 9.078125 54.6875 \nL 18.109375 54.6875 \nL 18.109375 46.1875 \nQ 20.953125 51.171875 25.484375 53.578125 \nQ 30.03125 56 36.53125 56 \nQ 37.453125 56 38.578125 55.875 \nQ 39.703125 55.765625 41.0625 55.515625 \nz\n\" id=\"DejaVuSans-114\"/>\n      </defs>\n      <use xlink:href=\"#DejaVuSans-115\"/>\n      <use x=\"52.099609\" xlink:href=\"#DejaVuSans-101\"/>\n      <use x=\"113.623047\" xlink:href=\"#DejaVuSans-99\"/>\n      <use x=\"168.603516\" xlink:href=\"#DejaVuSans-116\"/>\n      <use x=\"207.8125\" xlink:href=\"#DejaVuSans-111\"/>\n      <use x=\"268.994141\" xlink:href=\"#DejaVuSans-114\"/>\n     </g>\n    </g>\n   </g>\n   <g id=\"text_2\">\n    <!-- web -->\n    <g transform=\"translate(17.548241 147.050574)scale(0.1 -0.1)\">\n     <defs>\n      <path d=\"M 4.203125 54.6875 \nL 13.1875 54.6875 \nL 24.421875 12.015625 \nL 35.59375 54.6875 \nL 46.1875 54.6875 \nL 57.421875 12.015625 \nL 68.609375 54.6875 \nL 77.59375 54.6875 \nL 63.28125 0 \nL 52.6875 0 \nL 40.921875 44.828125 \nL 29.109375 0 \nL 18.5 0 \nz\n\" id=\"DejaVuSans-119\"/>\n      <path d=\"M 48.6875 27.296875 \nQ 48.6875 37.203125 44.609375 42.84375 \nQ 40.53125 48.484375 33.40625 48.484375 \nQ 26.265625 48.484375 22.1875 42.84375 \nQ 18.109375 37.203125 18.109375 27.296875 \nQ 18.109375 17.390625 22.1875 11.75 \nQ 26.265625 6.109375 33.40625 6.109375 \nQ 40.53125 6.109375 44.609375 11.75 \nQ 48.6875 17.390625 48.6875 27.296875 \nz\nM 18.109375 46.390625 \nQ 20.953125 51.265625 25.265625 53.625 \nQ 29.59375 56 35.59375 56 \nQ 45.5625 56 51.78125 48.09375 \nQ 58.015625 40.1875 58.015625 27.296875 \nQ 58.015625 14.40625 51.78125 6.484375 \nQ 45.5625 -1.421875 35.59375 -1.421875 \nQ 29.59375 -1.421875 25.265625 0.953125 \nQ 20.953125 3.328125 18.109375 8.203125 \nL 18.109375 0 \nL 9.078125 0 \nL 9.078125 75.984375 \nL 18.109375 75.984375 \nz\n\" id=\"DejaVuSans-98\"/>\n     </defs>\n     <use xlink:href=\"#DejaVuSans-119\"/>\n     <use x=\"81.787109\" xlink:href=\"#DejaVuSans-101\"/>\n     <use x=\"143.310547\" xlink:href=\"#DejaVuSans-98\"/>\n    </g>\n   </g>\n   <g id=\"text_3\">\n    <!-- healthcare -->\n    <g transform=\"translate(72.521684 23.079536)scale(0.1 -0.1)\">\n     <defs>\n      <path d=\"M 54.890625 33.015625 \nL 54.890625 0 \nL 45.90625 0 \nL 45.90625 32.71875 \nQ 45.90625 40.484375 42.875 44.328125 \nQ 39.84375 48.1875 33.796875 48.1875 \nQ 26.515625 48.1875 22.3125 43.546875 \nQ 18.109375 38.921875 18.109375 30.90625 \nL 18.109375 0 \nL 9.078125 0 \nL 9.078125 75.984375 \nL 18.109375 75.984375 \nL 18.109375 46.1875 \nQ 21.34375 51.125 25.703125 53.5625 \nQ 30.078125 56 35.796875 56 \nQ 45.21875 56 50.046875 50.171875 \nQ 54.890625 44.34375 54.890625 33.015625 \nz\n\" id=\"DejaVuSans-104\"/>\n      <path d=\"M 34.28125 27.484375 \nQ 23.390625 27.484375 19.1875 25 \nQ 14.984375 22.515625 14.984375 16.5 \nQ 14.984375 11.71875 18.140625 8.90625 \nQ 21.296875 6.109375 26.703125 6.109375 \nQ 34.1875 6.109375 38.703125 11.40625 \nQ 43.21875 16.703125 43.21875 25.484375 \nL 43.21875 27.484375 \nz\nM 52.203125 31.203125 \nL 52.203125 0 \nL 43.21875 0 \nL 43.21875 8.296875 \nQ 40.140625 3.328125 35.546875 0.953125 \nQ 30.953125 -1.421875 24.3125 -1.421875 \nQ 15.921875 -1.421875 10.953125 3.296875 \nQ 6 8.015625 6 15.921875 \nQ 6 25.140625 12.171875 29.828125 \nQ 18.359375 34.515625 30.609375 34.515625 \nL 43.21875 34.515625 \nL 43.21875 35.40625 \nQ 43.21875 41.609375 39.140625 45 \nQ 35.0625 48.390625 27.6875 48.390625 \nQ 23 48.390625 18.546875 47.265625 \nQ 14.109375 46.140625 10.015625 43.890625 \nL 10.015625 52.203125 \nQ 14.9375 54.109375 19.578125 55.046875 \nQ 24.21875 56 28.609375 56 \nQ 40.484375 56 46.34375 49.84375 \nQ 52.203125 43.703125 52.203125 31.203125 \nz\n\" id=\"DejaVuSans-97\"/>\n      <path d=\"M 9.421875 75.984375 \nL 18.40625 75.984375 \nL 18.40625 0 \nL 9.421875 0 \nz\n\" id=\"DejaVuSans-108\"/>\n     </defs>\n     <use xlink:href=\"#DejaVuSans-104\"/>\n     <use x=\"63.378906\" xlink:href=\"#DejaVuSans-101\"/>\n     <use x=\"124.902344\" xlink:href=\"#DejaVuSans-97\"/>\n     <use x=\"186.181641\" xlink:href=\"#DejaVuSans-108\"/>\n     <use x=\"213.964844\" xlink:href=\"#DejaVuSans-116\"/>\n     <use x=\"253.173828\" xlink:href=\"#DejaVuSans-104\"/>\n     <use x=\"316.552734\" xlink:href=\"#DejaVuSans-99\"/>\n     <use x=\"371.533203\" xlink:href=\"#DejaVuSans-97\"/>\n     <use x=\"432.8125\" xlink:href=\"#DejaVuSans-114\"/>\n     <use x=\"471.675781\" xlink:href=\"#DejaVuSans-101\"/>\n    </g>\n   </g>\n   <g id=\"text_4\">\n    <!-- government -->\n    <g transform=\"translate(211.820628 69.762121)scale(0.1 -0.1)\">\n     <defs>\n      <path d=\"M 45.40625 27.984375 \nQ 45.40625 37.75 41.375 43.109375 \nQ 37.359375 48.484375 30.078125 48.484375 \nQ 22.859375 48.484375 18.828125 43.109375 \nQ 14.796875 37.75 14.796875 27.984375 \nQ 14.796875 18.265625 18.828125 12.890625 \nQ 22.859375 7.515625 30.078125 7.515625 \nQ 37.359375 7.515625 41.375 12.890625 \nQ 45.40625 18.265625 45.40625 27.984375 \nz\nM 54.390625 6.78125 \nQ 54.390625 -7.171875 48.1875 -13.984375 \nQ 42 -20.796875 29.203125 -20.796875 \nQ 24.46875 -20.796875 20.265625 -20.09375 \nQ 16.0625 -19.390625 12.109375 -17.921875 \nL 12.109375 -9.1875 \nQ 16.0625 -11.328125 19.921875 -12.34375 \nQ 23.78125 -13.375 27.78125 -13.375 \nQ 36.625 -13.375 41.015625 -8.765625 \nQ 45.40625 -4.15625 45.40625 5.171875 \nL 45.40625 9.625 \nQ 42.625 4.78125 38.28125 2.390625 \nQ 33.9375 0 27.875 0 \nQ 17.828125 0 11.671875 7.65625 \nQ 5.515625 15.328125 5.515625 27.984375 \nQ 5.515625 40.671875 11.671875 48.328125 \nQ 17.828125 56 27.875 56 \nQ 33.9375 56 38.28125 53.609375 \nQ 42.625 51.21875 45.40625 46.390625 \nL 45.40625 54.6875 \nL 54.390625 54.6875 \nz\n\" id=\"DejaVuSans-103\"/>\n      <path d=\"M 2.984375 54.6875 \nL 12.5 54.6875 \nL 29.59375 8.796875 \nL 46.6875 54.6875 \nL 56.203125 54.6875 \nL 35.6875 0 \nL 23.484375 0 \nz\n\" id=\"DejaVuSans-118\"/>\n      <path d=\"M 54.890625 33.015625 \nL 54.890625 0 \nL 45.90625 0 \nL 45.90625 32.71875 \nQ 45.90625 40.484375 42.875 44.328125 \nQ 39.84375 48.1875 33.796875 48.1875 \nQ 26.515625 48.1875 22.3125 43.546875 \nQ 18.109375 38.921875 18.109375 30.90625 \nL 18.109375 0 \nL 9.078125 0 \nL 9.078125 54.6875 \nL 18.109375 54.6875 \nL 18.109375 46.1875 \nQ 21.34375 51.125 25.703125 53.5625 \nQ 30.078125 56 35.796875 56 \nQ 45.21875 56 50.046875 50.171875 \nQ 54.890625 44.34375 54.890625 33.015625 \nz\n\" id=\"DejaVuSans-110\"/>\n      <path d=\"M 52 44.1875 \nQ 55.375 50.25 60.0625 53.125 \nQ 64.75 56 71.09375 56 \nQ 79.640625 56 84.28125 50.015625 \nQ 88.921875 44.046875 88.921875 33.015625 \nL 88.921875 0 \nL 79.890625 0 \nL 79.890625 32.71875 \nQ 79.890625 40.578125 77.09375 44.375 \nQ 74.3125 48.1875 68.609375 48.1875 \nQ 61.625 48.1875 57.5625 43.546875 \nQ 53.515625 38.921875 53.515625 30.90625 \nL 53.515625 0 \nL 44.484375 0 \nL 44.484375 32.71875 \nQ 44.484375 40.625 41.703125 44.40625 \nQ 38.921875 48.1875 33.109375 48.1875 \nQ 26.21875 48.1875 22.15625 43.53125 \nQ 18.109375 38.875 18.109375 30.90625 \nL 18.109375 0 \nL 9.078125 0 \nL 9.078125 54.6875 \nL 18.109375 54.6875 \nL 18.109375 46.1875 \nQ 21.1875 51.21875 25.484375 53.609375 \nQ 29.78125 56 35.6875 56 \nQ 41.65625 56 45.828125 52.96875 \nQ 50 49.953125 52 44.1875 \nz\n\" id=\"DejaVuSans-109\"/>\n     </defs>\n     <use xlink:href=\"#DejaVuSans-103\"/>\n     <use x=\"63.476562\" xlink:href=\"#DejaVuSans-111\"/>\n     <use x=\"124.658203\" xlink:href=\"#DejaVuSans-118\"/>\n     <use x=\"183.837891\" xlink:href=\"#DejaVuSans-101\"/>\n     <use x=\"245.361328\" xlink:href=\"#DejaVuSans-114\"/>\n     <use x=\"284.724609\" xlink:href=\"#DejaVuSans-110\"/>\n     <use x=\"348.103516\" xlink:href=\"#DejaVuSans-109\"/>\n     <use x=\"445.515625\" xlink:href=\"#DejaVuSans-101\"/>\n     <use x=\"507.039062\" xlink:href=\"#DejaVuSans-110\"/>\n     <use x=\"570.417969\" xlink:href=\"#DejaVuSans-116\"/>\n    </g>\n   </g>\n   <g id=\"text_5\">\n    <!-- financial -->\n    <g transform=\"translate(215.951711 159.867917)scale(0.1 -0.1)\">\n     <defs>\n      <path d=\"M 37.109375 75.984375 \nL 37.109375 68.5 \nL 28.515625 68.5 \nQ 23.6875 68.5 21.796875 66.546875 \nQ 19.921875 64.59375 19.921875 59.515625 \nL 19.921875 54.6875 \nL 34.71875 54.6875 \nL 34.71875 47.703125 \nL 19.921875 47.703125 \nL 19.921875 0 \nL 10.890625 0 \nL 10.890625 47.703125 \nL 2.296875 47.703125 \nL 2.296875 54.6875 \nL 10.890625 54.6875 \nL 10.890625 58.5 \nQ 10.890625 67.625 15.140625 71.796875 \nQ 19.390625 75.984375 28.609375 75.984375 \nz\n\" id=\"DejaVuSans-102\"/>\n      <path d=\"M 9.421875 54.6875 \nL 18.40625 54.6875 \nL 18.40625 0 \nL 9.421875 0 \nz\nM 9.421875 75.984375 \nL 18.40625 75.984375 \nL 18.40625 64.59375 \nL 9.421875 64.59375 \nz\n\" id=\"DejaVuSans-105\"/>\n     </defs>\n     <use xlink:href=\"#DejaVuSans-102\"/>\n     <use x=\"35.205078\" xlink:href=\"#DejaVuSans-105\"/>\n     <use x=\"62.988281\" xlink:href=\"#DejaVuSans-110\"/>\n     <use x=\"126.367188\" xlink:href=\"#DejaVuSans-97\"/>\n     <use x=\"187.646484\" xlink:href=\"#DejaVuSans-110\"/>\n     <use x=\"251.025391\" xlink:href=\"#DejaVuSans-99\"/>\n     <use x=\"306.005859\" xlink:href=\"#DejaVuSans-105\"/>\n     <use x=\"333.789062\" xlink:href=\"#DejaVuSans-97\"/>\n     <use x=\"395.068359\" xlink:href=\"#DejaVuSans-108\"/>\n    </g>\n   </g>\n   <g id=\"text_6\">\n    <!-- retail -->\n    <g transform=\"translate(160.351399 209.275588)scale(0.1 -0.1)\">\n     <use xlink:href=\"#DejaVuSans-114\"/>\n     <use x=\"38.863281\" xlink:href=\"#DejaVuSans-101\"/>\n     <use x=\"100.386719\" xlink:href=\"#DejaVuSans-116\"/>\n     <use x=\"139.595703\" xlink:href=\"#DejaVuSans-97\"/>\n     <use x=\"200.875\" xlink:href=\"#DejaVuSans-105\"/>\n     <use x=\"228.658203\" xlink:href=\"#DejaVuSans-108\"/>\n    </g>\n   </g>\n  </g>\n </g>\n</svg>\n",
      "image/png": "[encoded data removed]"
     },
     "metadata": {}
    }
   ],
   "source": [
    "top5_sectors = df['sector'].value_counts().head(5)\n",
    "\n",
    "top5_sectors.plot.pie(\n",
    "    startangle=-90,\n",
    "    counterclock=False,\n",
    "    shadow=True\n",
    ")"
   ]
  },
  {
   "source": [
    "From the above approximate 13 billion records, the top 5 sectors where data breach happens and its cases report are:\n",
    "- `web`, case report `97`\n",
    "- `healthcare`, case report `43`\n",
    "- `government`, case report `39`\n",
    "- `financial`, case report `36`\n",
    "- `retail`, case report `25`"
   ],
   "cell_type": "markdown",
   "metadata": {}
  },
  {
   "cell_type": "markdown",
   "metadata": {},
   "source": [
    "## 3. Each of the top 5 sectors where data breach happened, what type of method on data breach happen the most. "
   ]
  },
  {
   "cell_type": "code",
   "execution_count": 351,
   "metadata": {},
   "outputs": [],
   "source": [
    "def get_databreach_methods_from_sector(df, sectors):\n",
    "    output = []\n",
    "    for sector in sectors:\n",
    "        sector_df = df[df['sector'] == sector]\n",
    "        top_method = sector_df['method'].value_counts().head(1)\n",
    "        method = top_method.index[0]\n",
    "        frequency = top_method[0]\n",
    "\n",
    "        output.append({'sector':sector, 'method': method, 'frequency': frequency})\n",
    "    return output"
   ]
  },
  {
   "cell_type": "code",
   "execution_count": 352,
   "metadata": {},
   "outputs": [
    {
     "output_type": "stream",
     "name": "stdout",
     "text": [
      "Sector: web, method: hacked : 82\nSector: healthcare, method: lost device  : 20\nSector: government, method: hacked : 16\nSector: financial, method: hacked : 20\nSector: retail, method: hacked : 17\n"
     ]
    }
   ],
   "source": [
    "top5_sectors = df['sector'].value_counts().head(5)\n",
    "sectors_list = top5_sectors.index.tolist()\n",
    "data_breach_stats_per_sector = get_databreach_methods_from_sector(df, sectors_list)\n",
    "\n",
    "for row in data_breach_stats_per_sector:\n",
    "    print(f'Sector: {row[\"sector\"]}, method: {row[\"method\"]} : {row[\"frequency\"]}')"
   ]
  },
  {
   "source": [
    "## 3.1 Each of the top 5 sectors, list the top 3 methods with percentage that cause data breach the most\n"
   ],
   "cell_type": "markdown",
   "metadata": {}
  },
  {
   "cell_type": "code",
   "execution_count": 389,
   "metadata": {},
   "outputs": [
    {
     "output_type": "stream",
     "name": "stdout",
     "text": [
      "web\nhacked           84.536082\npoor security    11.340206\noops!             3.092784\ninside job        1.030928\nName: method, dtype: float64\n---\nhealthcare\nlost device      46.511628\nhacked           39.534884\npoor security     6.976744\ninside job        4.651163\noops!             2.325581\nName: method, dtype: float64\n---\ngovernment\nhacked           41.025641\nlost device      23.076923\noops!            17.948718\ninside job       12.820513\npoor security     5.128205\nName: method, dtype: float64\n---\nfinancial\nhacked           55.555556\ninside job       16.666667\nlost device      16.666667\npoor security     8.333333\noops!             2.777778\nName: method, dtype: float64\n---\nretail\nhacked           68.0\npoor security    12.0\nlost device       8.0\noops!             8.0\ninside job        4.0\nName: method, dtype: float64\n---\n"
     ]
    }
   ],
   "source": [
    "for sector in sectors_list:\n",
    "    data = df[df['sector']==sector]\n",
    "    methods = data['method'].value_counts(normalize=True)*100.0\n",
    "    print(sector)\n",
    "    print(methods)\n",
    "    print('---')\n",
    "    "
   ]
  },
  {
   "cell_type": "markdown",
   "metadata": {},
   "source": [
    "## 4-5. From top 5 sectors, which type of data sensitivity get leaked the most"
   ]
  },
  {
   "cell_type": "code",
   "execution_count": 54,
   "metadata": {},
   "outputs": [],
   "source": [
    "def get_leak_most_data_sense(df, sector, method):\n",
    "    is_sector = df[\"sector\"] == sector\n",
    "    is_method = df[\"method\"] == method\n",
    "    data_sense = df[is_sector & is_method]['data_sensitivity']\n",
    "    leak_most = data_sense.value_counts().head(1)\n",
    "    return [leak_most.index[0], leak_most.max()]"
   ]
  },
  {
   "cell_type": "code",
   "execution_count": 64,
   "metadata": {},
   "outputs": [
    {
     "output_type": "stream",
     "name": "stdout",
     "text": [
      "Sector: \"web\" : hacked data_sensitivity: 1, 47/82 times or 57.32%\nSector: \"healthcare\" : lost device  data_sensitivity: 4, 12/20 times or 60.00%\nSector: \"government\" : hacked data_sensitivity: 2, 7/16 times or 43.75%\nSector: \"financial\" : hacked data_sensitivity: 3, 7/20 times or 35.00%\nSector: \"retail\" : hacked data_sensitivity: 3, 11/17 times or 64.71%\n"
     ]
    }
   ],
   "source": [
    "for row in data_breach_stats_per_sector:\n",
    "    data_sense, data_sense_cnt = get_leak_most_data_sense(df, row['sector'], row['method'])\n",
    "    print(f'Sector: \"{row[\"sector\"]}\" : {row[\"method\"]} data_sensitivity: {data_sense}, {data_sense_cnt}/{row[\"frequency\"]} times or {(data_sense_cnt/row[\"frequency\"]*100.0):.2f}%')"
   ]
  },
  {
   "source": [
    "#### Check healthcare in more detail as it sounds strange that majority of data breach are from lost device"
   ],
   "cell_type": "markdown",
   "metadata": {}
  },
  {
   "cell_type": "code",
   "execution_count": 344,
   "metadata": {},
   "outputs": [
    {
     "output_type": "stream",
     "name": "stdout",
     "text": [
      "percentage of each method in healthcare\nlost device      46.511628\nhacked           39.534884\npoor security     6.976744\ninside job        4.651163\noops!             2.325581\nName: method, dtype: float64\nhacking percentage from healthcare: 39.53%\n"
     ]
    }
   ],
   "source": [
    "# find secondary method of healthcare data breach\n",
    "is_sector = df[\"sector\"] == 'healthcare'\n",
    "data_sense = df[is_sector ]['method']\n",
    "second_method = data_sense.value_counts().index[1]\n",
    "second_method_cnt = data_sense.value_counts()[1]\n",
    "second_method_pct = data_sense.value_counts(normalize=True)[1]\n",
    "\n",
    "print('percentage of each method in healthcare')\n",
    "print(f'{data_sense.value_counts(normalize=True)*100}')\n",
    "print(f'hacking percentage from healthcare: {second_method_pct*100.0:.2f}%')"
   ]
  },
  {
   "source": [
    "So the secondary methods of health data breach is via hacking with about 40%. Now let's see what type of data sensitivity does hacking target at."
   ],
   "cell_type": "markdown",
   "metadata": {}
  },
  {
   "cell_type": "code",
   "execution_count": 331,
   "metadata": {},
   "outputs": [
    {
     "output_type": "stream",
     "name": "stdout",
     "text": [
      "Sector: healthcare : hacked data_sensitivity type: 4, 7/17 cases or 41.18%\n"
     ]
    }
   ],
   "source": [
    "hc_data_sense, hc_data_cnt = get_leak_most_data_sense(df, 'healthcare', 'hacked')\n",
    "\n",
    "print(f'Sector: healthcare : hacked data_sensitivity type: {hc_data_sense}, {hc_data_cnt}/{second_method_cnt} cases or {(hc_data_cnt/second_method_cnt*100.0):.2f}%')"
   ]
  },
  {
   "source": [
    "- In the `web` sector, it suffered the most with total of 97 data breach reports where 82 cases are reported of data breach from <u>hacking</u> with 57% of data disclosure that exposed email address and online information from hacking.\n",
    "\n",
    "- `healthcare` sector is targeted the second target with total of 43 cases where 46% of the cases of data breach are from <u>lost device</u> and data breach from <u>hacking</u> about 40% which cause their health and personal records exposed.\n",
    "\n",
    "- Regarding the `government` sector, there are about 44% from its total reported of hacking where the target data is about social security number and personal details.\n",
    "\n",
    "- In terms of `financial` sector, major data breach is from hacking with 20 incidents or 55%. From the hacking incidents, the data that got exposed is mainly credit-card information.\n",
    "\n",
    "- In the `Retail` sector, there are 25 cases reported. About 68% or 17 cases are from hacking, in which credit card information got exposed the most."
   ],
   "cell_type": "markdown",
   "metadata": {}
  },
  {
   "source": [
    "## 6. From top 5 sectors, which data source should provide us more information or updated news.\n",
    "This is to give stakeholders some clue which source of information will keep us updated if data breach happens with them"
   ],
   "cell_type": "markdown",
   "metadata": {}
  },
  {
   "cell_type": "code",
   "execution_count": 108,
   "metadata": {},
   "outputs": [],
   "source": [
    "def get_top_source_name_from_sector(df, sector):\n",
    "    sector_df = df[df['sector']==sector]\n",
    "    vc_sector_df = sector_df['source_name'].value_counts().head(3)\n",
    "    return vc_sector_df"
   ]
  },
  {
   "cell_type": "code",
   "execution_count": 113,
   "metadata": {},
   "outputs": [
    {
     "output_type": "stream",
     "name": "stdout",
     "text": [
      "web\n\nThe Register    8\nThe Guardian    5\nMotherboard     5\nName: source_name, dtype: int64\n---\n\nhealthcare\n\nData Breaches    5\nEmory            1\nBoston Globe     1\nName: source_name, dtype: int64\n---\n\ngovernment\n\nBBC News            6\nBusiness Insider    3\nData Breaches       2\nName: source_name, dtype: int64\n---\n\nfinancial\n\nReuters              3\nKrebs on Security    2\nPC World             2\nName: source_name, dtype: int64\n---\n\nretail\n\nThe Guardian    2\nTechcrunch      2\nSlashdot        1\nName: source_name, dtype: int64\n---\n\n"
     ]
    }
   ],
   "source": [
    "for sector in top5_sectors.index:\n",
    "    top_sources = get_top_source_name_from_sector(df,sector)\n",
    "    print(f'{sector}\\n\\n{top_sources}\\n---\\n')"
   ]
  },
  {
   "source": [
    "## 7. Companies that their records are ALL leaked out"
   ],
   "cell_type": "markdown",
   "metadata": {}
  },
  {
   "cell_type": "code",
   "execution_count": 425,
   "metadata": {},
   "outputs": [
    {
     "output_type": "execute_result",
     "data": {
      "text/plain": [
       "              entity  sector\n",
       "15           Animoto     app\n",
       "22  CoffeeMeetsBagel     web\n",
       "32           Petflow  retail"
      ],
      "text/html": "<div>\n<style scoped>\n    .dataframe tbody tr th:only-of-type {\n        vertical-align: middle;\n    }\n\n    .dataframe tbody tr th {\n        vertical-align: top;\n    }\n\n    .dataframe thead th {\n        text-align: right;\n    }\n</style>\n<table border=\"1\" class=\"dataframe\">\n  <thead>\n    <tr style=\"text-align: right;\">\n      <th></th>\n      <th>entity</th>\n      <th>sector</th>\n    </tr>\n  </thead>\n  <tbody>\n    <tr>\n      <th>15</th>\n      <td>Animoto</td>\n      <td>app</td>\n    </tr>\n    <tr>\n      <th>22</th>\n      <td>CoffeeMeetsBagel</td>\n      <td>web</td>\n    </tr>\n    <tr>\n      <th>32</th>\n      <td>Petflow</td>\n      <td>retail</td>\n    </tr>\n  </tbody>\n</table>\n</div>"
     },
     "metadata": {},
     "execution_count": 425
    }
   ],
   "source": [
    "all_data_lost = df[df['records_lost']=='ALL']\n",
    "all_data_lost[['entity','sector']]"
   ]
  },
  {
   "source": [
    "## 8. The most popular data breaching method per data sensitivity"
   ],
   "cell_type": "markdown",
   "metadata": {}
  },
  {
   "cell_type": "code",
   "execution_count": 95,
   "metadata": {},
   "outputs": [],
   "source": [
    "def get_databreach_from_sensitivity(df, sense):\n",
    "    \"\"\"\n",
    "    Get method of data breachingj, its count, and its total based on\n",
    "    the data sensitivity input.\n",
    "    \"\"\"\n",
    "    data_sense_df = df[df['data_sensitivity']==sense]\n",
    "    vc_data_sense = data_sense_df['method'].value_counts().head(1)\n",
    "    return vc_data_sense.index[0], vc_data_sense.max(), data_sense_df.shape[0]\n"
   ]
  },
  {
   "cell_type": "code",
   "execution_count": 397,
   "metadata": {},
   "outputs": [
    {
     "output_type": "stream",
     "name": "stdout",
     "text": [
      "Data Type:1, method: hacked, cases: 87\nData Type:2, method: hacked, cases: 49\nData Type:3, method: hacked, cases: 34\nData Type:4, method: hacked, cases: 28\nData Type:5, method: hacked, cases: 15\nData Type:7, method: hacked, cases: 1\n"
     ]
    }
   ],
   "source": [
    "for data_sense_type in sorted(df['data_sensitivity'].unique()):\n",
    "    method_cnt = get_databreach_from_sensitivity(df, data_sense_type)\n",
    "    print(f'Data Type:{data_sense_type}, method: {method_cnt[0]}, cases: {method_cnt[1]}')"
   ]
  },
  {
   "source": [
    "## 9. Is the most frequent data-leaked entities and the the most frequent data-leaked sectors referred to the same sectors? \n"
   ],
   "cell_type": "markdown",
   "metadata": {}
  },
  {
   "cell_type": "code",
   "execution_count": 415,
   "metadata": {},
   "outputs": [
    {
     "output_type": "execute_result",
     "data": {
      "text/plain": [
       "('web', 3)"
      ]
     },
     "metadata": {},
     "execution_count": 415
    }
   ],
   "source": [
    "def get_sector_cnt_from_entity(df, entity):\n",
    "    entity_df = df[df['entity']==entity]\n",
    "    vc_entity = entity_df['sector'].value_counts()\n",
    "    return vc_entity.index[0], vc_entity[0]\n",
    "get_sector_cnt_from_entity(df,'AOL')"
   ]
  },
  {
   "cell_type": "code",
   "execution_count": 420,
   "metadata": {},
   "outputs": [
    {
     "output_type": "stream",
     "name": "stdout",
     "text": [
      "AOL's sector: web, count:3\nCitigroup's sector: financial, count:3\nFacebook's sector: web, count:3\nYahoo's sector: web, count:3\n"
     ]
    }
   ],
   "source": [
    "# get the most frequently data-leaked entities\n",
    "grouped_entity = df.groupby(['entity']).size()\n",
    "freq_data_leak_entity = grouped_entity[ \n",
    "    grouped_entity == grouped_entity.max() \n",
    "    ]\n",
    "# from the above entities, find their sectors\n",
    "for entity in freq_data_leak_entity.index:\n",
    "    entity_sector, entity_cnt = get_sector_cnt_from_entity(df, entity)\n",
    "    print(f'{entity}\\'s sector: {entity_sector}, count:{entity_cnt}')\n",
    "\n"
   ]
  },
  {
   "source": [
    "We can see that the main sector from those frequent data-leaked entities are from `web` and `financial`"
   ],
   "cell_type": "markdown",
   "metadata": {}
  },
  {
   "cell_type": "code",
   "execution_count": 424,
   "metadata": {},
   "outputs": [
    {
     "output_type": "execute_result",
     "data": {
      "text/plain": [
       "web           28.613569\n",
       "healthcare    12.684366\n",
       "government    11.504425\n",
       "financial     10.619469\n",
       "retail         7.374631\n",
       "Name: sector, dtype: float64"
      ]
     },
     "metadata": {},
     "execution_count": 424
    }
   ],
   "source": [
    "# get the most frequently data-leaked sectors\n",
    "df['sector'].value_counts(normalize=True).head(5)*100"
   ]
  },
  {
   "source": [
    "## Findings\n",
    "As we can see, `web` sector got data breached the most. So that means any companies in the `web` sector can be potentiall exposed to 30% data breach where main data target is online information and email address exposed by hacking.\n",
    "\n",
    "For any stakeholders who are concerned if their sector get compromised, then following sources is beneficial to keep checking:\n",
    "- The Register \n",
    "- The Guardian\n",
    "- Motherboard "
   ],
   "cell_type": "markdown",
   "metadata": {}
  },
  {
   "cell_type": "code",
   "execution_count": null,
   "metadata": {},
   "outputs": [],
   "source": []
  }
 ],
 "metadata": {
  "kernelspec": {
   "display_name": "Python 3.6.5 64-bit",
   "language": "python",
   "name": "python36564bit047d055e66ee471c8b587ba4366d812a"
  },
  "language_info": {
   "codemirror_mode": {
    "name": "ipython",
    "version": 3
   },
   "file_extension": ".py",
   "mimetype": "text/x-python",
   "name": "python",
   "nbconvert_exporter": "python",
   "pygments_lexer": "ipython3",
   "version": "3.6.5-final"
  }
 },
 "nbformat": 4,
 "nbformat_minor": 2
}